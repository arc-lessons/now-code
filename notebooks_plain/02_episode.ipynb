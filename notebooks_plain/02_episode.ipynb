{
  "cells": [
    {
      "metadata": {
        "slideshow": {
          "slide_type": "slide"
        }
      },
      "cell_type": "markdown",
      "source": "# The Rainfall Problem"
    },
    {
      "metadata": {
        "slideshow": {
          "slide_type": "slide"
        }
      },
      "cell_type": "markdown",
      "source": "## Overview\n- **Teaching:** 0 min\n- **Exercises:** 90 min\n\n**Questions**\n- What is the Rainfall problem?\n\n**Outcomes**\n- Understand how to combine loops and conditionals to achieve a desired result\n- Write defensive code to help users to use your function correctly, provide help and informative error messages"
    },
    {
      "metadata": {
        "slideshow": {
          "slide_type": "slide"
        }
      },
      "cell_type": "markdown",
      "source": "## Getting Started\n\nThis exercise requires you to clone the repository from: [github.com/arc-bath/rainfall.git](https://github.com/arc-bath/rainfall).  Make sure that the repository is not cloned into a directory or sub-directory of an existing git repository.  On notebooks.azure.com, the easiest way to ensure this is to create a new library with `Upload GitHub Repo`\n\nOnce your library has been created `Run` the library, navigate to the `src` folder and start a new notebook.  You can the run the tests in `test_rainfall.py` from within a code cell with:\n\n```python\n!pytest test_rainfall.py\n```"
    },
    {
      "metadata": {},
      "cell_type": "markdown",
      "source": "## Alternative start up\n\nIf you wish to run from the terminal then you can instead clone the repository directly with `git`:\n```bash\ngit clone https://github.com/arc-bath/rainfall.git\n```\n\nOnce you have the repository change into the directory and run the tests in `test_rainfall.py`\n\n```bash\n% cd rainfall/src\n% pytest test_rainfall.py\n```"
    },
    {
      "metadata": {},
      "cell_type": "markdown",
      "source": "You should see a lot of output from pytest since many of the tests failed.  The final line should contain a summary:\n\n```brainfuck\n======================================== 9 failed, 3 passed in 0.16 seconds =========================================\n```\n\nThe aim of this exercise is to modify your function so that it passes all these tests.  Let's begin by reducing the output produced by `pytest` so we can see more clearly what is happening:\n\n```bash\n% pytest --tb=short test_rainfall.py\n```\n\nYou should now see output that looks like:"
    },
    {
      "metadata": {
        "slideshow": {
          "slide_type": "slide"
        }
      },
      "cell_type": "markdown",
      "source": "```brainfuck\n================================================ test session starts ================================================\nplatform linux -- Python 3.6.3, pytest-3.2.1, py-1.4.34, pluggy-0.4.0\nrootdir: /home/rjg20/training/arc-training/now-code-repos/rainfall, inifile:\ncollected 12 items\n\nsrc/test_rainfall.py ...FFFFFFFFF\n\n===================================================== FAILURES ======================================================\n________________________________________________ test_rf_negative_1 _________________________________________________\nsrc/test_rainfall.py:48: in test_rf_negative_1\n    assert_almost_equal( observ, expect )\nE   AssertionError:\nE   Arrays are not almost equal to 7 decimals\nE    ACTUAL: 2.3333333333333335\nE    DESIRED: 3\n________________________________________________ test_rf_negative_2 _________________________________________________\nsrc/test_rainfall.py:59: in test_rf_negative_2\n    assert_almost_equal( observ, expect )\nE   AssertionError:\nE   Arrays are not almost equal to 7 decimals\nE    ACTUAL: 2.3333333333333335\nE    DESIRED: 3\n________________________________________________ test_rf_negative_3 _________________________________________________\nsrc/test_rainfall.py:70: in test_rf_negative_3\n    assert_almost_equal( observ, expect )\nE   AssertionError:\nE   Arrays are not almost equal to 7 decimals\nE    ACTUAL: 2.3333333333333335\nE    DESIRED: 3\n________________________________________________ test_rf_negative_4 _________________________________________________\nsrc/test_rainfall.py:81: in test_rf_negative_4\n    assert_almost_equal( observ, expect )\nE   AssertionError:\nE   Arrays are not almost equal to 7 decimals\nE    ACTUAL: 1.2\nE    DESIRED: 4\n___________________________________________________ test_rf_99_1 ____________________________________________________\nsrc/test_rainfall.py:92: in test_rf_99_1\n    assert_almost_equal( observ, expect )\nE   AssertionError:\nE   Arrays are not almost equal to 7 decimals\nE    ACTUAL: 27.0\nE    DESIRED: 3\n___________________________________________________ test_rf_99_2 ____________________________________________________\nsrc/test_rainfall.py:103: in test_rf_99_2\n    assert_almost_equal( observ, expect )\nE   AssertionError:\nE   Arrays are not almost equal to 7 decimals\nE    ACTUAL: 23.0\nE    DESIRED: 3\n___________________________________________________ test_rf_both ____________________________________________________\nsrc/test_rainfall.py:114: in test_rf_both\n    assert_almost_equal( observ, expect )\nE   AssertionError:\nE   Arrays are not almost equal to 7 decimals\nE    ACTUAL: 20.818181818181817\nE    DESIRED: 3\n___________________________________________________ test_rf_empty ___________________________________________________\nsrc/test_rainfall.py:123: in test_rf_empty\n    observ = rf.rfmean( test_list )\nsrc/rainfall.py:26: in rfmean\n    return sum/count\nE   ZeroDivisionError: division by zero\n_________________________________________________ test_rf_99_start __________________________________________________\nsrc/test_rainfall.py:136: in test_rf_99_start\n    assert_almost_equal( observ, expect )\nE   TypeError: unsupported operand type(s) for -: 'str' and 'float'\n======================================== 9 failed, 3 passed in 0.17 seconds =========================================\n```"
    },
    {
      "metadata": {
        "slideshow": {
          "slide_type": "slide"
        }
      },
      "cell_type": "markdown",
      "source": "## The Problem\n\nThe Rainfall problem has a long history, see this [review](https://www.researchgate.net/publication/288002756_Do_we_know_how_difficult_the_Rainfall_Problem_is) for details.  The problem involves combining structural components of programming, e.g. loops and conditionals to calculate the mean of a data set subject to:\n\n1. Ignoring negative values\n2. Exiting and calculating the mean early if a certain `STOP` value is met.\n\nIn this exercise you will modify a provided function to meet these criteria where the `STOP` value is `99`.  You will also handle exceptions such as empty lists and related problems to improve the robustness of you function and provide informative messages and help to potential users.\n\nLater in the exercise you will introduce the possibility of a user defined `STOP` value.\n\nYou will be able to monitor your progress by comparing how your functions pass a series of tests provided in the exercise repository.  This also includes a prototype function to help you get started.  "
    },
    {
      "metadata": {
        "slideshow": {
          "slide_type": "slide"
        }
      },
      "cell_type": "markdown",
      "source": "## Pen: 1: Correct the calculator `rfmean()`\n\nModify the function `rfmean` in `rainfall.py` so that it correctly calculates the mean rainfall as described above.  Remember that we want to ignore negative numbers and stop the calculation when we read `99`.\n\nYou may find it useful to know that you can break out of a loop with the following structure:\n```python\nfor value in collection:      # initiate loop\n    if condition == True:     # If some condition is satisfied\n        break                 # Break out of, or exit the current loop (i.e. do not process any more values in collection)\n```\n\nBefore modifying the function, consider writing a flowchart, or pseudocode to develop a clear idea of what your program will need to do to correctly calculate the mean rainfall.  Once your function is performing correctly only 4 tests should now be failing."
    },
    {
      "metadata": {
        "slideshow": {
          "slide_type": "slide"
        }
      },
      "cell_type": "markdown",
      "source": "## Pen: 2: Handle incorrect use\n\nDocumenting your programs and functions is vital to ensure that they are used correctly, however in case of error it is useful to provide feedback to help users identify what is wrong, for example take an error message and compare with documentation.  The last three tests in `test_rainfall.py` require you to add this to your solution.\n\nLook at `test_rainfall.py` to identify the different conditions that you need to identify to pass the required response to you user.  As before draw a flow chart or write pseudocode to work out how to catch the different errors before implementing your solution."
    },
    {
      "metadata": {
        "slideshow": {
          "slide_type": "slide"
        }
      },
      "cell_type": "markdown",
      "source": "## Pen: 3: Altered `STOP` condition\n\nYour function now works correctly for the condition `STOP=99`.  We now wish to generalise the function so that the user can define their own value.  To do this you will modify your function so that it takes an optional parameter with a default value of `99`.  Remember than you can specify a default value for function variables in the definition:\n```python\ndef my_func(a, b, c, my_default_value = 100):\n    '''Does function stuff'''\n    print(a, b, c, my_default_values)\n```\n\nOnce you have modified your function check that it still works with the earlier tests."
    },
    {
      "metadata": {
        "slideshow": {
          "slide_type": "slide"
        }
      },
      "cell_type": "markdown",
      "source": "## Pen: 4: Test your new functionality\n\nSo far you have been running the set of test in `test_rainfall.py`.  There is also another test file `test_enhanced.py`.  Run this a few times to check whether your function passes.  Do you think the problem is with your function or this new test?  Carefully check the test output to workout what has happened.\n\nYou should see that there is a problem with the new test, since the test is code it is we must make sure that the test is accurate as well.  Open `test_enhanced.py` and reconstruct what it is doing in a flow chart, or with code, the documentation and comments in the function should help you to understand how it is operating.  See if you can identify what is wrong and propose a fix.\n\nOnce you have verified that your function and the corrected tests are behaving correctly it is now time to write a new test which checks that your user defined `STOP` works correctly.  Duplicate the existing test in `test_enhanced.py` and modify the test and documentation so that it generates a random `STOP` value for each iteration.\n\nOnce you have written your new test, check that your function passes the test.  If it doesn't, check the error messages carefully to determine whether the error lies in the `rfmean` function or the new test.  Although the new tests are more complicated think about the pros and cons of writing test like this."
    },
    {
      "metadata": {
        "slideshow": {
          "slide_type": "slide"
        }
      },
      "cell_type": "markdown",
      "source": "## Key Points\n- In this exercise you have combined the two principal logical constructs in programming: loops and conditionals.\n- Numerous studies have found this to be a significant challenge for new programmers.\n- Using tests helps you to verify that your code works as intended.\n- Tests are just code and may contain errors, simple tests are therefore easier to validate.\n- Enhanced tests can make it easier to test a range of functionality and automate testing with different values."
    }
  ],
  "metadata": {
    "celltoolbar": "Slideshow",
    "kernelspec": {
      "name": "python3",
      "display_name": "Python 3",
      "language": "python"
    },
    "language_info": {
      "mimetype": "text/x-python",
      "nbconvert_exporter": "python",
      "name": "python",
      "file_extension": ".py",
      "version": "3.5.4",
      "pygments_lexer": "ipython3",
      "codemirror_mode": {
        "version": 3,
        "name": "ipython"
      }
    }
  },
  "nbformat": 4,
  "nbformat_minor": 2
}