{
  "cells": [
    {
      "metadata": {
        "slideshow": {
          "slide_type": "slide"
        }
      },
      "cell_type": "markdown",
      "source": "# Introduction to Now Code"
    },
    {
      "metadata": {
        "slideshow": {
          "slide_type": "subslide"
        }
      },
      "cell_type": "markdown",
      "source": "## Overview\n- **Teaching:** 10 min\n- **Exercises:** 0 min\n\n**Questions**\n- How can I put everything I have learnt so far into practice?\n\n**Objectives**\n- Undertake a set of exercises to put into practice what you have learnt in previous weeks.\n- Undertstand how writing pseudocode or flowcharts can help to plan your programming.\n- Practice pair programming where developers work in tandem, one pilot, one navigator."
    },
    {
      "metadata": {
        "slideshow": {
          "slide_type": "slide"
        }
      },
      "cell_type": "markdown",
      "source": "The aim of this week's lesson (and the later Now Code 2) is to give you an opportunity to practice your programming and good working practice.  You will attempt a number of exercises which will involve working in pairs to design, implement and test your solutions.  "
    },
    {
      "metadata": {
        "slideshow": {
          "slide_type": "slide"
        }
      },
      "cell_type": "markdown",
      "source": "## Information: Python virtual environments\n\nIf you choose **not** to use notebooks.azure.com you may need to setup your computer to override the default behaviour of Python.  Fortunately `Python` provides the means to manage this issue through the creation of environments using the `[mini]conda` package manager.  This also allows us to install the libraries we need for our different programs and keep them separate in case the cause conflits or use different versions of libraries.\n\nWe can create a new environment with the following:\n```bash\n% conda create -n python3 python=3.7\n```\nAnswer `y` at the prompt to create the environment.\n\n\nThe prompt advises us to activate our new environment with:\n```bash\n% conda activate python3\n```\n\nOn 'linux.bath' when returning to the environment you may have to use the command`source activate python3`.  Recall that the problem last week was that we did not have the correct version of `pytest` available, so we will install this to our new environment, we also want to use `ipython3` by default.  Note that in order to this you have to activate the environment as above.  Your prompt will now be prefixed with the name of the environment:\n```bash\n(python3) % conda install pytest\n...\n(python3) % conda install ipython\n...\n```\nAgain you will need to answer `y` to install when prompted.\n\nWhere necessary the exercises comprising `now-code` should advise you if you need to install specific additional libraries or packages .  When they do, or if packages are not present you should be able to install them to your environment using `conda install <library>`.  If not you can try `pip install <library>`  You can `create` and `remove` conda environments so feel free to investigate further after the workshop."
    },
    {
      "metadata": {
        "slideshow": {
          "slide_type": "slide"
        }
      },
      "cell_type": "markdown",
      "source": "## Pseudocode\n\nSo far the example we have undertaken have been relatively short due to time constraints.  This means that we have generally not spent too long planning our code, however for anything but the simplest programs this can be a mistake.  Writing pseduocode or flowcharts can help us to understand what our program needs to do.  When we have more significant programming challenges it can also help us to break down the code into functions and architect the different components that we will need to include.\n\nAs an example let's consider the `mean` function that we have considered in previous weeks.  This functionality can be summarised as follows:\n\n```brainfuck\nFunction: mean(list)\n\nTakes list passed from calling function\n\nIf list is empty, return warning message: it is not possible to take the mean of an empty list\nIf list contains non-numerical values, return warning message: it is only possible to average numerical values\nOtherwise: \n    sum list\n    count items in list\n    return mean: sum/count\n```\n\nNow because of the natural language of Python we can readily turn this into executable code:\n\n```python\ndef mean(sample):\n    '''\n    Takes a list of numbers, sample\n\n    and returns the mean.\n    '''\n\n    assert len(sample) != 0, \"Unable to take the mean of an empty list\"\n    for value in sample:\n        assert isinstance(value,int) or isinstance(value,float), \"Value in list is not a number.\"\n    sample_mean = sum(sample) / len(sample)\n    return sample_mean\n```\n\nBefore starting any of the exercises try to contruct pseudocode for your solution."
    },
    {
      "metadata": {
        "slideshow": {
          "slide_type": "slide"
        }
      },
      "cell_type": "markdown",
      "source": "## Pair programming\n\nIn professional development practices such as code review and pair programming are used to ensure quality, develop understanding and provide mentoring. During these exercises you are encouraged to work with a neighbour.  Develop your pseudocode together to plan how you are going to tackle the problem.  When you start coding one of your will **drive** or **pilot**, explaining what you are doing when appropriate, and the other will **navigate** or **guide**, as necessary.  Both should understand what and why you are doing what you are doing at all times.\n\nSwap frequently, and at least for each part/subexercise, but when you are pilot only ever work on your own copy of the code.  In order to do this, one of you will have to create your own remote copy of the repository, e.g. on github and make your partner a collaborator.\n\nWhen you clone the repository for each exercise the original remote will be set as origin.  To check this and change the remote follow these commands:\n\n```bash\n% git remote -v\norigin  https://github.com/arc-bath/<exercise>.git (fetch)\norigin  https://github.com/arc-bath/<exercise>.git (push)\n% git remote remove origin\n```\n\ncreate a new empty remote repository on you github account called `rainfall`.  Then add it to your local repository and push it to the remote, by following the instructions on github or with the following:\n\n```bash\n% git add remote origin https://github.com/<your_username>/<exercise>.git\n% git push -u origin master\n```\n"
    },
    {
      "metadata": {
        "slideshow": {
          "slide_type": "slide"
        }
      },
      "cell_type": "markdown",
      "source": "## Key Points\n- Undertake a series of programming challenges to combine what you have learnt in previous weeks.\n- Writing pseudocode or flowcharts can help you plan the logic you will need to implement in your programs.\n- Pair-programming can help to mentor and develop our understanding as programmers."
    }
  ],
  "metadata": {
    "celltoolbar": "Slideshow",
    "kernelspec": {
      "name": "python3",
      "display_name": "Python 3",
      "language": "python"
    },
    "language_info": {
      "mimetype": "text/x-python",
      "nbconvert_exporter": "python",
      "name": "python",
      "pygments_lexer": "ipython3",
      "version": "3.5.4",
      "file_extension": ".py",
      "codemirror_mode": {
        "version": 3,
        "name": "ipython"
      }
    }
  },
  "nbformat": 4,
  "nbformat_minor": 2
}